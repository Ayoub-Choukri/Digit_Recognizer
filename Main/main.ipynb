{
 "cells": [
  {
   "cell_type": "code",
   "execution_count": 18,
   "metadata": {},
   "outputs": [
    {
     "name": "stdout",
     "output_type": "stream",
     "text": [
      "Actual Path: /home/ayoub-choukri/Etudes/Personel/Projects/Projects_Computer/Mnist_2/Main\n",
      "Changed Directory to Models\n",
      "['Resnet.py', '__pycache__']\n",
      "Imported Resnet\n",
      "Changed Directory\n",
      "Modules Imported\n"
     ]
    }
   ],
   "source": [
    "import os\n",
    "try : \n",
    "    Actual_Path = os.getcwd()\n",
    "    print('Actual Path:', Actual_Path)\n",
    "    os.chdir('../')\n",
    "    os.chdir('./Modules')\n",
    "    os.chdir('./Models')\n",
    "    print('Changed Directory to Models')\n",
    "    # ls\n",
    "    print(os.listdir())\n",
    "    try : \n",
    "        from Resnet import *\n",
    "    except:\n",
    "            print('Error in importing Resnet')\n",
    "    print('Imported Resnet')\n",
    "    os.chdir('../')\n",
    "    print('Changed Directory')\n",
    "    from preprocessing import *\n",
    "    from train import *\n",
    "\n",
    "    print('Modules Imported')\n",
    "except:\n",
    "    print('Error in importing Modules')\n",
    "finally:\n",
    "    os.chdir(Actual_Path)\n"
   ]
  }
 ],
 "metadata": {
  "kernelspec": {
   "display_name": "Personal",
   "language": "python",
   "name": "python3"
  },
  "language_info": {
   "codemirror_mode": {
    "name": "ipython",
    "version": 3
   },
   "file_extension": ".py",
   "mimetype": "text/x-python",
   "name": "python",
   "nbconvert_exporter": "python",
   "pygments_lexer": "ipython3",
   "version": "3.12.1"
  }
 },
 "nbformat": 4,
 "nbformat_minor": 2
}

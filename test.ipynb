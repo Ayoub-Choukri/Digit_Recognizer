{
 "cells": [
  {
   "cell_type": "code",
   "execution_count": 5,
   "metadata": {},
   "outputs": [],
   "source": [
    "from PIL import Image\n",
    "\n",
    "import base64\n",
    "\n",
    "import io\n",
    "\n",
    "\n",
    "import torch \n",
    "import torch.nn as nn\n",
    "import torch.optim as optim\n",
    "import torch.nn.functional as F\n",
    "from torchvision import transforms, models\n"
   ]
  },
  {
   "cell_type": "code",
   "execution_count": 13,
   "metadata": {},
   "outputs": [
    {
     "data": {
      "image/png": "[encoded data removed]",
      "text/plain": [
       "<Figure size 640x480 with 1 Axes>"
      ]
     },
     "metadata": {},
     "output_type": "display_data"
    }
   ],
   "source": [
    "import matplotlib.pyplot as plt\n",
    "import matplotlib.image as mpimg\n",
    "\n",
    "# Lire l'image\n",
    "image = mpimg.imread('drawing.png')\n",
    "\n",
    "# To PIL\n",
    "\n",
    "image = Image.fromarray((image * 255).astype('uint8'))\n",
    "\n",
    "transform_mnist = transforms.Compose([\n",
    "    # transforms.ToTensor(),\n",
    "    # Resize to 32x32\n",
    "    transforms.Resize((32, 32)),\n",
    "    transforms.Grayscale(num_output_channels=1),\n",
    "\n",
    "    # To tensor\n",
    "    transforms.ToTensor(),\n",
    "])\n",
    "\n",
    "image_tensor = transform_mnist(image)\n",
    "\n",
    "# Afficher l'image\n",
    "plt.imshow(image)\n",
    "plt.axis('off')  # Optionnel : masquer les axes\n",
    "plt.show()"
   ]
  },
  {
   "cell_type": "code",
   "execution_count": 14,
   "metadata": {},
   "outputs": [
    {
     "data": {
      "text/plain": [
       "tensor([[[1., 1., 1.,  ..., 1., 1., 1.],\n",
       "         [1., 1., 1.,  ..., 1., 1., 1.],\n",
       "         [1., 1., 1.,  ..., 1., 1., 1.],\n",
       "         ...,\n",
       "         [1., 1., 1.,  ..., 1., 1., 1.],\n",
       "         [1., 1., 1.,  ..., 1., 1., 1.],\n",
       "         [1., 1., 1.,  ..., 1., 1., 1.]]])"
      ]
     },
     "execution_count": 14,
     "metadata": {},
     "output_type": "execute_result"
    }
   ],
   "source": [
    "image_tensor"
   ]
  },
  {
   "cell_type": "code",
   "execution_count": 120,
   "metadata": {},
   "outputs": [],
   "source": [
    "img = Image.open(\"./Site/static/Test_Images/drawing.png\")\n",
    "\n",
    "\n",
    "buffered = io.BytesIO()\n",
    "img.save(buffered, format=\"PNG\")\n",
    "image_bytes = buffered.getvalue()\n",
    "\n",
    "\n",
    "encoded_image = base64.b64encode(image_bytes).decode('utf-8')\n",
    "\n",
    "\n",
    "payload = {\n",
    "    \"image\" : encoded_image,\n",
    "    \"name\" : \"drawing.png\",\n",
    "    \"file_extension\" : \"png\"\n",
    "}\n",
    "\n",
    "headers = {\n",
    "    \"Content-Type\": \"application/json\"\n",
    "}\n",
    "\n"
   ]
  },
  {
   "cell_type": "code",
   "execution_count": 121,
   "metadata": {},
   "outputs": [
    {
     "data": {
      "image/png": "[encoded data removed]",
      "text/plain": [
       "<Figure size 640x480 with 1 Axes>"
      ]
     },
     "metadata": {},
     "output_type": "display_data"
    }
   ],
   "source": [
    "transform_mnist = transforms.Compose([\n",
    "    # transforms.ToTensor(),\n",
    "    # Resize to 32x32\n",
    "    transforms.Resize((32, 32)),\n",
    "    transforms.Grayscale(num_output_channels=1),\n",
    "\n",
    "    # To tensor\n",
    "    transforms.ToTensor(),\n",
    "])\n",
    "\n",
    "\n",
    "from matplotlib import pyplot as plt    \n",
    "\n",
    "def show_image(image):\n",
    "    plt.imshow(image, cmap='gray')\n",
    "    plt.show()\n",
    "\n",
    "show_image(img)"
   ]
  },
  {
   "cell_type": "code",
   "execution_count": 122,
   "metadata": {},
   "outputs": [
    {
     "data": {
      "text/plain": [
       "torch.Size([1, 32, 32])"
      ]
     },
     "execution_count": 122,
     "metadata": {},
     "output_type": "execute_result"
    }
   ],
   "source": [
    "transform_mnist(img).shape"
   ]
  },
  {
   "cell_type": "code",
   "execution_count": 128,
   "metadata": {},
   "outputs": [
    {
     "name": "stdout",
     "output_type": "stream",
     "text": [
      "{'message': 'Model resnet loaded successfully'}\n"
     ]
    }
   ],
   "source": [
    "import requests\n",
    "\n",
    "URL = \"http://127.0.0.1:5001\"\n",
    "\n",
    "\n",
    "\n",
    "\n",
    "def Load_Resnet():\n",
    "    response = requests.get(URL + \"/Loadresnet\")\n",
    "    if response.status_code == 200:\n",
    "        print(response.json())\n",
    "    else:\n",
    "        print(\"Error: \", response.status_code)\n",
    "\n",
    "\n",
    "\n",
    "Load_Resnet()\n"
   ]
  },
  {
   "cell_type": "code",
   "execution_count": 124,
   "metadata": {},
   "outputs": [
    {
     "name": "stdout",
     "output_type": "stream",
     "text": [
      "{'prediction': 3}\n"
     ]
    }
   ],
   "source": [
    "\n",
    "def Predict():\n",
    "    response = requests.post(URL + \"/Predictresnet\", json=payload, headers=headers)\n",
    "    if response.status_code == 200:\n",
    "        print(response.json())\n",
    "    else:\n",
    "        print(\"Error: \", response.status_code)\n",
    "\n",
    "\n",
    "Predict()"
   ]
  },
  {
   "cell_type": "code",
   "execution_count": 139,
   "metadata": {},
   "outputs": [
    {
     "name": "stdout",
     "output_type": "stream",
     "text": [
      "{'prediction': 1}\n"
     ]
    }
   ],
   "source": [
    "URL2 = \"http://127.0.0.1:5000\"\n",
    "\n",
    "\n",
    "def Predict2():\n",
    "\n",
    "    response = requests.get(URL2 + \"/predict-image\")\n",
    "\n",
    "    if response.status_code == 200:\n",
    "        print(response.json())\n",
    "    else:\n",
    "        print(\"Error: \", response.status_code)\n",
    "\n",
    "\n",
    "Predict2()\n",
    "\n",
    "\n"
   ]
  }
 ],
 "metadata": {
  "kernelspec": {
   "display_name": "Personal",
   "language": "python",
   "name": "python3"
  },
  "language_info": {
   "codemirror_mode": {
    "name": "ipython",
    "version": 3
   },
   "file_extension": ".py",
   "mimetype": "text/x-python",
   "name": "python",
   "nbconvert_exporter": "python",
   "pygments_lexer": "ipython3",
   "version": "3.12.1"
  }
 },
 "nbformat": 4,
 "nbformat_minor": 2
}
